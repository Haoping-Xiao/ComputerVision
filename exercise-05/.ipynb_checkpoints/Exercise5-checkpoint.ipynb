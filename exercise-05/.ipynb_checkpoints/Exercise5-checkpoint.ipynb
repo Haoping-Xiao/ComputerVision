{
 "cells": [
  {
   "cell_type": "code",
   "execution_count": null,
   "metadata": {},
   "outputs": [],
   "source": [
    "# This cell is used for creating a button that hides/unhides code cells to quickly look only the results.\n",
    "# Works only with Jupyter Notebooks.\n",
    "\n",
    "from IPython.display import HTML\n",
    "\n",
    "HTML('''<script>\n",
    "code_show=true;\n",
    "function code_toggle() {\n",
    "if (code_show){\n",
    "$('div.input').hide();\n",
    "} else {\n",
    "$('div.input').show();\n",
    "}\n",
    "code_show = !code_show\n",
    "}\n",
    "$( document ).ready(code_toggle);\n",
    "</script>\n",
    "<form action=\"javascript:code_toggle()\"><input type=\"submit\" value=\"Click here to toggle on/off the raw code.\"></form>''')"
   ]
  },
  {
   "cell_type": "code",
   "execution_count": 1,
   "metadata": {},
   "outputs": [
    {
     "name": "stdout",
     "output_type": "stream",
     "text": [
      "The data directory is /coursedata\n",
      "Data stored in /coursedata/exercise-05-data/\n"
     ]
    }
   ],
   "source": [
    "# Description:\n",
    "#   Exercise5 notebook.\n",
    "#\n",
    "# Copyright (C) 2018 Santiago Cortes, Juha Ylioinas\n",
    "#\n",
    "# This software is distributed under the GNU General Public \n",
    "# Licence (version 2 or later); please refer to the file \n",
    "# Licence.txt, included with the software, for details.\n",
    "\n",
    "# Preparations\n",
    "import os\n",
    "import numpy as np\n",
    "import matplotlib.pyplot as plt\n",
    "import cv2\n",
    "\n",
    "# Select data directory\n",
    "if os.path.isdir('/coursedata'):\n",
    "    # JupyterHub\n",
    "    course_data_dir = '/coursedata'\n",
    "elif os.path.isdir('../../../coursedata'):\n",
    "    # Local installation\n",
    "    course_data_dir = '../../../coursedata'\n",
    "else:\n",
    "    # Docker\n",
    "    course_data_dir = '/home/jovyan/work/coursedata/'\n",
    "\n",
    "print('The data directory is %s' % course_data_dir)\n",
    "data_dir = os.path.join(course_data_dir, 'exercise-05-data/')\n",
    "print('Data stored in %s' % data_dir)"
   ]
  },
  {
   "cell_type": "markdown",
   "metadata": {},
   "source": [
    "# CS-E4850 Computer Vision Exercise Round 5\n",
    "\n",
    "Remember to do the pen and paper assignments given in Exercise05task1.pdf.\n",
    "\n",
    "The problems should be solved before the exercise session and solutions returned via\n",
    "MyCourses. Upload to MyCourses both: this Jupyter Notebook (.ipynb) file containing your solutions to the programming tasks and the exported pdf version of this Notebook file. If there are both programming and pen & paper tasks kindly combine the two pdf files (your scanned/LaTeX solutions and the exported Notebook) into a single pdf and submit that with the Notebook (.ipynb) file. <br><br> Note that (1) you are not supposed to change anything in the utils.py and (2) you should be sure that everything that you need to implement should work with the pictures specified by the assignments of this exercise round."
   ]
  },
  {
   "cell_type": "markdown",
   "metadata": {},
   "source": [
    "## Robust line fitting using RANSAC.\n",
    "\n",
    "Run the example script robustLineFitting, which plots a set of points $(x_i,y_i), i=1,\\ldots,n$, and estimate a line that best fits to these points by implementing a RANSAC approach as explained in the slides of Lecture 4:\n",
    "\n",
    "\n",
    "Repeat the following steps $N$ times (set $N$ large enough according to the guidelines given in the lecture):\n",
    "\n",
    "- Draw 2 points uniformly at random from set $(x_i,y_i)$.\n",
    "\n",
    "- Fit a line to these 2 points.\n",
    "\n",
    "- Determine the inliers to this line among the remaining points (i.e.\\ points whose distance to the line is less\n",
    "than a suitably set threshold $t$).\n",
    "\n",
    "\n",
    "Take the line with most inliers from previous stage and refit it using total least squares fitting to all inliers.\n",
    "Plot the estimated line and all the points $(x_i,y_i)$ to the same figure and report the estimated values of the line's coefficients.\n"
   ]
  },
  {
   "cell_type": "code",
   "execution_count": 69,
   "metadata": {},
   "outputs": [
    {
     "data": {
      "image/png": "[encoded data removed]",
      "text/plain": [
       "<Figure size 432x288 with 1 Axes>"
      ]
     },
     "metadata": {
      "needs_background": "light"
     },
     "output_type": "display_data"
    }
   ],
   "source": [
    "# Load and plot points\n",
    "data = np.load(data_dir+'points.npy')\n",
    "x, y = data[0,:], data[1,:]\n",
    "plt.plot(x, y, 'kx')\n",
    "plt.title('Point distribution')\n",
    "plt.axis('equal')\n",
    "plt.show()"
   ]
  },
  {
   "cell_type": "code",
   "execution_count": 56,
   "metadata": {},
   "outputs": [
    {
     "name": "stdout",
     "output_type": "stream",
     "text": [
      "[[1 2]\n",
      " [1 2]]\n",
      "[[1 1]\n",
      " [2 2]]\n",
      "[[1 2]\n",
      " [1 2]]\n",
      "[[1 2]\n",
      " [2 4]]\n",
      "[[2 4]\n",
      " [4 8]]\n"
     ]
    }
   ],
   "source": [
    "# test=np.array([])\n",
    "point=[]\n",
    "points=[]\n",
    "for i in range(2):\n",
    "    point.append(1)\n",
    "    point.append(2)\n",
    "\n",
    "points=np.array(point)\n",
    "points=points.reshape(-1,2)\n",
    "print(points)\n",
    "x,y=np.mean(points,axis=0)\n",
    "# points[:,0]=points[:,0]-x\n",
    "# points[:,1]=points[:,1]-y\n",
    "print(points.T)\n",
    "print(points)\n",
    "\n",
    "print(points.T*points)\n",
    "print(points.T.dot(points))"
   ]
  },
  {
   "cell_type": "code",
   "execution_count": 64,
   "metadata": {},
   "outputs": [
    {
     "name": "stdout",
     "output_type": "stream",
     "text": [
      "[ 1.5575541   0.14036128 -0.15286703]\n",
      "[[-0.2275126  -0.92932482  0.29403236]\n",
      " [-0.62845358  0.30641199 -0.89682062]\n",
      " [-0.7438307   0.20607542  0.33054161]]\n",
      "[2 1 0]\n"
     ]
    }
   ],
   "source": [
    "A = np.random.random((3,3))\n",
    "eigenValues, eigenVectors = np.linalg.eig(A)\n",
    "print(eigenValues)\n",
    "print(eigenVectors)\n",
    "idx = eigenValues.argsort()  \n",
    "print(idx)\n",
    "eigenValues = eigenValues[idx]\n",
    "eigenVectors = eigenVectors[:,idx]"
   ]
  },
  {
   "cell_type": "code",
   "execution_count": 84,
   "metadata": {},
   "outputs": [
    {
     "name": "stderr",
     "output_type": "stream",
     "text": [
      "/opt/conda/lib/python3.7/site-packages/ipykernel_launcher.py:23: RuntimeWarning: invalid value encountered in double_scalars\n"
     ]
    }
   ],
   "source": [
    "## Robust line fitting\n",
    "##--your-code-starts-here--##\n",
    "p=0.99 # probability p of at least one random sample is free from outliers\n",
    "s=2 #initial number of point\n",
    "e=0.9 #outlier ratio e\n",
    "t=0.95 #inliers distance threshold\n",
    "N=np.ceil(np.log(1-p)/np.log(1-(1-e)**s)).astype(np.int)\n",
    "d=e*data.shape[1]#expected inliers\n",
    "\n",
    "total_inliers=0\n",
    "inliers=[]\n",
    "most_inliers=0\n",
    "best_inliers=[]\n",
    "best_k=0\n",
    "best_b=0\n",
    "\n",
    "for _ in range(N):\n",
    "    sample_index=np.random.randint(data.shape[1],size=s)\n",
    "    x1=data[0,sample_index[0]]\n",
    "    x2=data[0,sample_index[1]]\n",
    "    y1=data[1,sample_index[0]]\n",
    "    y2=data[1,sample_index[1]]\n",
    "    if(x2==x1):\n",
    "        continue\n",
    "    k =(y2 - y1) / (x2 - x1) #slope\n",
    "    b = y1 - k * x1 # bias\n",
    "    for i in range(data.shape[1]):\n",
    "        if i in sample_index:\n",
    "            continue\n",
    "        y_hat=k*data[0,i]+b\n",
    "        if abs(y_hat-data[1,i])<t:\n",
    "            total_inliers+=1\n",
    "            inliers.append(data[0,i])#record inliers x coordinate\n",
    "            inliers.append(data[1,i])#record inliers y coordinate\n",
    "    if(total_inliers>most_inliers):\n",
    "        most_inliers=total_inliers\n",
    "        best_inliers=inliers\n",
    "        best_k=k\n",
    "        best_b=b\n",
    "    if total_inliers>d:\n",
    "        break\n",
    "    total_inliers=0\n",
    "    inliers.clear()\n",
    "x=data[0,:]\n",
    "y=data[1,:]\n",
    "estimate_y=best_k*x+best_b\n",
    "plt.scatter(x, y)\n",
    "plt.scatter(x,estimate_y,color='green')\n",
    "plt.plot(x,estimate_y,color='red')\n",
    "plt.show()\n",
    "# best_inliers=np.array(best_inliers)\n",
    "# best_inliers=best_inliers.reshape(-1,2)\n",
    "# x_mean,y_mean=np.mean(best_inliers,axis=0)# mean of inliers coordinate\n",
    "# U=best_inliers\n",
    "# U[:,0]=U[:,0]-x_mean\n",
    "# U[:,1]=U[:,1]-y_mean\n",
    "# UTU=U.T.dot(U)\n",
    "# eigenValues,eigenVectors=np.linalg.eig(UTU)\n",
    "# smallest_eigenValue_idx=eigenValues.argsort()[0]#the index of smallest eigenValue\n",
    "# smallest_eigenVector=eigenVectors[:,smallest_eigenValue_idx]\n",
    "# print(smallest_eigenVector)\n",
    "##--your-code-ends-here--##"
   ]
  },
  {
   "cell_type": "markdown",
   "metadata": {},
   "source": [
    "## Line detection by Hough transform. (Just a demo, no points given)\n",
    "\n",
    "Run the example cell below, which illustrates line detection by Hough transform using opencv built-in functions."
   ]
  },
  {
   "cell_type": "code",
   "execution_count": null,
   "metadata": {},
   "outputs": [],
   "source": [
    "#DEMO CELL\n",
    "# Logistic sigmoid function\n",
    "def sigm(x):\n",
    "    return 1 / (1 + np.exp(-x))\n",
    "\n",
    "# This demo detects the Canny edges for the input image,\n",
    "# calculates the Hough transform for the Canny edge image,\n",
    "# displays the Hough votes in an acculumator array\n",
    "# and finally draws the detected lines\n",
    "\n",
    "# Read image\n",
    "I = cv2.imread(data_dir+'board.png', 0)\n",
    "r, c = I.shape\n",
    "\n",
    "plt.figure(1)\n",
    "plt.imshow(I, cmap='bone')\n",
    "plt.title('Original image')\n",
    "plt.axis('off')\n",
    "# Find Canny edges. The input image for cv2.HoughLines should be\n",
    "# a binary image, so a Canny edge image will do just fine.\n",
    "# The Canny edge detector uses hysteresis thresholding, where\n",
    "# there are two different threshold levels.\n",
    "edges = cv2.Canny(I, 80, 130)\n",
    "plt.figure(2)\n",
    "plt.imshow(edges, cmap='gray')\n",
    "plt.title('Canny edges')\n",
    "plt.axis('off')\n",
    "# Compute the Hough transform for the binary image returned by cv2.Canny\n",
    "# cv2.HoughLines returns 2-element vectors containing (rho, theta)\n",
    "# cv2.HoughLines(input image, radius resolution(pixels), angular resolution (radians),treshold )\n",
    "H = cv2.HoughLines(edges, 0.5, np.pi/180, 5)\n",
    "\n",
    "# Display the transform\n",
    "theta = H[:,0,1].ravel()\n",
    "rho = H[:,0,0].ravel()\n",
    "\n",
    "# Create an acculumator array and the bin coordinates for voting\n",
    "x_coord = np.arange(0, np.pi, np.pi/180)\n",
    "y_coord = np.arange(np.amin(rho), np.amax(rho)+1, (np.amax(rho)+1)/50)\n",
    "\n",
    "acc = np.zeros([np.size(y_coord),np.size(x_coord)])\n",
    "\n",
    "# Perform the voting\n",
    "for i in range(np.size(theta)):\n",
    "    x_id = np.argmin(np.abs(x_coord-theta[i]))\n",
    "    y_id = np.argmin(np.abs(y_coord-rho[i]))\n",
    "    acc[y_id, x_id] +=  1\n",
    "\n",
    "# Pass the values through a logistic sigmoid function and normalize\n",
    "# (only for the purpose of better visualization)\n",
    "#acc = sigm(acc)\n",
    "acc /= np.amax(acc)\n",
    "\n",
    "plt.figure(3)\n",
    "plt.imshow(acc,cmap='bone')\n",
    "plt.axis('off')\n",
    "\n",
    "plt.title('Hough transform space')\n",
    "\n",
    "# Compute the Hough transform with higher threshold \n",
    "# for displaying ~30 strongest peaks in the transform space\n",
    "H2 = cv2.HoughLines(edges, 1, np.pi/180, 150)\n",
    "\n",
    "x2 = H2[:,:,1].ravel()\n",
    "y2 = H2[:,:,0].ravel()\n",
    "\n",
    "# Superimpose a plot on the image of the transform that identifies the peaks\n",
    "plt.figure(3)\n",
    "for i in range(np.size(x2)):\n",
    "    x_id = np.argmin(abs(x_coord-x2[i]))\n",
    "    y_id = np.argmin(abs(y_coord-y2[i]))\n",
    "    plt.plot(x_id, y_id, 'xr','Linewidth',0.1)\n",
    "    \n",
    "# Visualize detected lines on top of the Canny edges.\n",
    "plt.figure(4)\n",
    "plt.imshow(I, cmap='bone')\n",
    "plt.title('Detected lines')\n",
    "plt.axis('off')\n",
    "\n",
    "\n",
    "for ind in range(0,len(H2)):\n",
    "    line=H2[ind,0,:]\n",
    "    rho=line[0]\n",
    "    theta=line[1]\n",
    "    a = np.cos(theta)\n",
    "    b = np.sin(theta)\n",
    "    x0 = a*rho\n",
    "    y0 = b*rho\n",
    "    x1 = int(x0 + 1000*(-b))\n",
    "    y1 = int(y0 + 1000*(a))\n",
    "    x2 = int(x0 - 1000*(-b))\n",
    "    y2 = int(y0 - 1000*(a))\n",
    "\n",
    "    plt.plot((x1,x2),(y1,y2))\n",
    "    \n",
    "#plt.plot(xk, yk, 'm-')\n",
    "plt.xlim([0,np.size(I,1)])\n",
    "plt.ylim([0,np.size(I,0)])\n",
    "plt.show()"
   ]
  }
 ],
 "metadata": {
  "kernelspec": {
   "display_name": "Python 3",
   "language": "python",
   "name": "python3"
  },
  "language_info": {
   "codemirror_mode": {
    "name": "ipython",
    "version": 3
   },
   "file_extension": ".py",
   "mimetype": "text/x-python",
   "name": "python",
   "nbconvert_exporter": "python",
   "pygments_lexer": "ipython3",
   "version": "3.7.8"
  },
  "varInspector": {
   "cols": {
    "lenName": 16,
    "lenType": 16,
    "lenVar": 40
   },
   "kernels_config": {
    "python": {
     "delete_cmd_postfix": "",
     "delete_cmd_prefix": "del ",
     "library": "var_list.py",
     "varRefreshCmd": "print(var_dic_list())"
    },
    "r": {
     "delete_cmd_postfix": ") ",
     "delete_cmd_prefix": "rm(",
     "library": "var_list.r",
     "varRefreshCmd": "cat(var_dic_list()) "
    }
   },
   "types_to_exclude": [
    "module",
    "function",
    "builtin_function_or_method",
    "instance",
    "_Feature"
   ],
   "window_display": false
  }
 },
 "nbformat": 4,
 "nbformat_minor": 4
}
